{
  "nbformat": 4,
  "nbformat_minor": 0,
  "metadata": {
    "colab": {
      "provenance": [],
      "gpuType": "T4"
    },
    "kernelspec": {
      "name": "python3",
      "display_name": "Python 3"
    },
    "language_info": {
      "name": "python"
    },
    "accelerator": "GPU"
  },
  "cells": [
    {
      "cell_type": "markdown",
      "source": [
        "**import libraries for project:**"
      ],
      "metadata": {
        "id": "yHDE7jizivF1"
      }
    },
    {
      "cell_type": "code",
      "execution_count": null,
      "metadata": {
        "id": "dWp9btUJkER8"
      },
      "outputs": [],
      "source": [
        "import numpy as numpy\n",
        "import pandas as pd\n",
        "import os\n",
        "import tensorflow as tf\n",
        "import tensorflow.keras as keras\n",
        "import matplotlib.pyplot as plt\n",
        "import cv2 as cv"
      ]
    },
    {
      "cell_type": "markdown",
      "source": [
        "**load train images dataset:**"
      ],
      "metadata": {
        "id": "pzq615TTi99-"
      }
    },
    {
      "cell_type": "code",
      "source": [
        "train_images_path = '/content/drive/MyDrive/dataset/train-cat-rabbit'\n",
        "\n",
        "train_dataset = tf.keras.utils.image_dataset_from_directory(\n",
        "    train_images_path,\n",
        "    labels='inferred',\n",
        "    label_mode='binary',\n",
        "    color_mode='rgb',\n",
        "    image_size=(224, 224),\n",
        "    batch_size=50,\n",
        "    shuffle=True\n",
        ")"
      ],
      "metadata": {
        "colab": {
          "base_uri": "https://localhost:8080/"
        },
        "id": "T6sWA2DPjEfM",
        "outputId": "f263515c-ad80-48d8-82d6-ef10d790fc69"
      },
      "execution_count": null,
      "outputs": [
        {
          "output_type": "stream",
          "name": "stdout",
          "text": [
            "Found 1600 files belonging to 2 classes.\n"
          ]
        }
      ]
    },
    {
      "cell_type": "code",
      "source": [
        "val_images_path = '/content/drive/MyDrive/dataset/val-cat-rabbit'\n",
        "\n",
        "val_dataset = tf.keras.utils.image_dataset_from_directory(\n",
        "    val_images_path,\n",
        "    labels='inferred',\n",
        "    label_mode='binary',\n",
        "    color_mode='rgb',\n",
        "    image_size=(224, 224),\n",
        "    batch_size=50,\n",
        "    shuffle=False\n",
        ")"
      ],
      "metadata": {
        "colab": {
          "base_uri": "https://localhost:8080/"
        },
        "id": "Rc26sePcGMBj",
        "outputId": "c868afdf-7533-4f3f-a2c2-a4f20d88d043"
      },
      "execution_count": null,
      "outputs": [
        {
          "output_type": "stream",
          "name": "stdout",
          "text": [
            "Found 414 files belonging to 2 classes.\n"
          ]
        }
      ]
    },
    {
      "cell_type": "markdown",
      "source": [
        "**initialize cnn sequential model:**"
      ],
      "metadata": {
        "id": "qeS4og3JlDq0"
      }
    },
    {
      "cell_type": "code",
      "source": [
        "model = tf.keras.Sequential([\n",
        "      # ist convolutional layer\n",
        "      tf.keras.layers.Conv2D(32, (3, 3), activation='relu', input_shape=(224, 224, 3)),\n",
        "      tf.keras.layers.MaxPooling2D((2, 2)),\n",
        "\n",
        "      # 2nd convolutional layer\n",
        "      tf.keras.layers.Conv2D(64, (3,3), activation = 'relu'),\n",
        "      tf.keras.layers.MaxPooling2D((2, 2)),\n",
        "\n",
        "      #3rd convolutional layer\n",
        "      tf.keras.layers.Conv2D(128, (3,3), activation = 'relu'),\n",
        "      tf.keras.layers.MaxPooling2D((2, 2)),\n",
        "\n",
        "      # 4rd conv layer\n",
        "      tf.keras.layers.Conv2D(264, (3,3), activation = 'relu'),\n",
        "      tf.keras.layers.MaxPooling2D((2, 2)),\n",
        "\n",
        "      # 5th layer conv\n",
        "      tf.keras.layers.Conv2D(512, (3,3), activation= 'relu'),\n",
        "      tf.keras.layers.MaxPooling2D((2, 2)),\n",
        "\n",
        "      # Flatten the output of the convolutional layers\n",
        "      tf.keras.layers.Flatten(),\n",
        "\n",
        "      # Fully connected layer 1\n",
        "      tf.keras.layers.Dense(128, activation='relu'),\n",
        "\n",
        "      # Fully connected layer 2\n",
        "      tf.keras.layers.Dense(64, activation='relu'),\n",
        "\n",
        "      # Output layer\n",
        "      tf.keras.layers.Dense(1, activation='sigmoid')\n",
        "])"
      ],
      "metadata": {
        "id": "SlAi2wnUvCyp"
      },
      "execution_count": null,
      "outputs": []
    },
    {
      "cell_type": "markdown",
      "source": [
        "**compile your model:**"
      ],
      "metadata": {
        "id": "L2DU4sA2lN8u"
      }
    },
    {
      "cell_type": "code",
      "source": [
        "model.summary()"
      ],
      "metadata": {
        "colab": {
          "base_uri": "https://localhost:8080/"
        },
        "id": "RGFKHel2IU_S",
        "outputId": "493a622d-f586-4c7c-eb97-c6e794d42971"
      },
      "execution_count": null,
      "outputs": [
        {
          "output_type": "stream",
          "name": "stdout",
          "text": [
            "Model: \"sequential\"\n",
            "_________________________________________________________________\n",
            " Layer (type)                Output Shape              Param #   \n",
            "=================================================================\n",
            " conv2d (Conv2D)             (None, 222, 222, 32)      896       \n",
            "                                                                 \n",
            " max_pooling2d (MaxPooling2  (None, 111, 111, 32)      0         \n",
            " D)                                                              \n",
            "                                                                 \n",
            " conv2d_1 (Conv2D)           (None, 109, 109, 64)      18496     \n",
            "                                                                 \n",
            " max_pooling2d_1 (MaxPoolin  (None, 54, 54, 64)        0         \n",
            " g2D)                                                            \n",
            "                                                                 \n",
            " conv2d_2 (Conv2D)           (None, 52, 52, 128)       73856     \n",
            "                                                                 \n",
            " max_pooling2d_2 (MaxPoolin  (None, 26, 26, 128)       0         \n",
            " g2D)                                                            \n",
            "                                                                 \n",
            " conv2d_3 (Conv2D)           (None, 24, 24, 264)       304392    \n",
            "                                                                 \n",
            " max_pooling2d_3 (MaxPoolin  (None, 12, 12, 264)       0         \n",
            " g2D)                                                            \n",
            "                                                                 \n",
            " conv2d_4 (Conv2D)           (None, 10, 10, 512)       1217024   \n",
            "                                                                 \n",
            " max_pooling2d_4 (MaxPoolin  (None, 5, 5, 512)         0         \n",
            " g2D)                                                            \n",
            "                                                                 \n",
            " flatten (Flatten)           (None, 12800)             0         \n",
            "                                                                 \n",
            " dense (Dense)               (None, 128)               1638528   \n",
            "                                                                 \n",
            " dense_1 (Dense)             (None, 64)                8256      \n",
            "                                                                 \n",
            " dense_2 (Dense)             (None, 1)                 65        \n",
            "                                                                 \n",
            "=================================================================\n",
            "Total params: 3261513 (12.44 MB)\n",
            "Trainable params: 3261513 (12.44 MB)\n",
            "Non-trainable params: 0 (0.00 Byte)\n",
            "_________________________________________________________________\n"
          ]
        }
      ]
    },
    {
      "cell_type": "code",
      "source": [
        "model.compile(optimizer='adam',\n",
        "              loss=tf.keras.losses.BinaryCrossentropy(),\n",
        "              metrics=['accuracy'])"
      ],
      "metadata": {
        "id": "x4gvJ652lWmu"
      },
      "execution_count": null,
      "outputs": []
    },
    {
      "cell_type": "markdown",
      "source": [
        "**fit the CNN Sequential model on the training dataset:**"
      ],
      "metadata": {
        "id": "Ec4FDJVqlbhR"
      }
    },
    {
      "cell_type": "code",
      "source": [
        "model.fit(train_dataset, validation_data = val_dataset, epochs= 5)"
      ],
      "metadata": {
        "colab": {
          "base_uri": "https://localhost:8080/"
        },
        "id": "Wbz-HEAphsO8",
        "outputId": "e360e621-11d2-47f7-d785-b2693d4c1a15"
      },
      "execution_count": null,
      "outputs": [
        {
          "output_type": "stream",
          "name": "stdout",
          "text": [
            "Epoch 1/5\n",
            "32/32 [==============================] - 343s 10s/step - loss: 7.0531 - accuracy: 0.5581 - val_loss: 0.6986 - val_accuracy: 0.5121\n",
            "Epoch 2/5\n",
            "32/32 [==============================] - 240s 7s/step - loss: 0.6240 - accuracy: 0.6231 - val_loss: 0.6122 - val_accuracy: 0.7029\n",
            "Epoch 3/5\n",
            "32/32 [==============================] - 239s 7s/step - loss: 0.4832 - accuracy: 0.7575 - val_loss: 0.5847 - val_accuracy: 0.8043\n",
            "Epoch 4/5\n",
            "32/32 [==============================] - 241s 8s/step - loss: 0.3830 - accuracy: 0.8200 - val_loss: 0.5864 - val_accuracy: 0.7923\n",
            "Epoch 5/5\n",
            "32/32 [==============================] - 238s 7s/step - loss: 0.3162 - accuracy: 0.8494 - val_loss: 0.5991 - val_accuracy: 0.7391\n"
          ]
        },
        {
          "output_type": "execute_result",
          "data": {
            "text/plain": [
              "<keras.src.callbacks.History at 0x79bef3f19d80>"
            ]
          },
          "metadata": {},
          "execution_count": 10
        }
      ]
    },
    {
      "cell_type": "markdown",
      "source": [
        "**import test dataset:**"
      ],
      "metadata": {
        "id": "iXyhzc-BykRA"
      }
    },
    {
      "cell_type": "code",
      "source": [
        "model.save('cat_vs_rabbit.h5')\n"
      ],
      "metadata": {
        "id": "iicb4kcvuq1c"
      },
      "execution_count": null,
      "outputs": []
    },
    {
      "cell_type": "code",
      "source": [
        "test_images_path = '/content/drive/MyDrive/dataset/test-images'\n",
        "\n",
        "test_dataset = tf.keras.utils.image_dataset_from_directory(\n",
        "    test_images_path,\n",
        "    labels='inferred',\n",
        "    label_mode='binary',\n",
        "    color_mode='rgb',\n",
        "    image_size=(224, 224),\n",
        "    batch_size=50,\n",
        "    shuffle=False\n",
        ")"
      ],
      "metadata": {
        "colab": {
          "base_uri": "https://localhost:8080/"
        },
        "id": "IrJR4BX-yjme",
        "outputId": "bb93f364-1715-45bc-f8d4-0688508b9863"
      },
      "execution_count": null,
      "outputs": [
        {
          "output_type": "stream",
          "name": "stdout",
          "text": [
            "Found 15 files belonging to 2 classes.\n"
          ]
        }
      ]
    },
    {
      "cell_type": "markdown",
      "source": [
        "**check model prediction on test dataset:**"
      ],
      "metadata": {
        "id": "gYJ9k5ziy_iB"
      }
    },
    {
      "cell_type": "code",
      "source": [
        "#Evaluate the model on the training dataset\n",
        "loss, accuracy = model.evaluate(test_dataset)\n",
        "print(\"Training Accuracy:\", accuracy)"
      ],
      "metadata": {
        "colab": {
          "base_uri": "https://localhost:8080/"
        },
        "id": "YU2nG4PSyU22",
        "outputId": "61e64a11-1c47-42e6-c560-e18a62416bf6"
      },
      "execution_count": null,
      "outputs": [
        {
          "output_type": "stream",
          "name": "stdout",
          "text": [
            "1/1 [==============================] - 2s 2s/step - loss: 0.2967 - accuracy: 0.8667\n",
            "Training Accuracy: 0.8666666746139526\n"
          ]
        }
      ]
    },
    {
      "cell_type": "code",
      "source": [
        "prediction = model.predict(test_dataset)\n",
        "print(prediction)"
      ],
      "metadata": {
        "colab": {
          "base_uri": "https://localhost:8080/"
        },
        "id": "pqOup9oWP1Vo",
        "outputId": "de7395a9-a0bf-4da1-e1fb-23506136b2a0"
      },
      "execution_count": null,
      "outputs": [
        {
          "output_type": "stream",
          "name": "stdout",
          "text": [
            "1/1 [==============================] - 1s 689ms/step\n",
            "[[1.5929578e-01]\n",
            " [1.5524246e-01]\n",
            " [1.6273300e-03]\n",
            " [3.9918460e-03]\n",
            " [3.8359329e-01]\n",
            " [2.5101930e-05]\n",
            " [4.9416178e-01]\n",
            " [7.7738035e-01]\n",
            " [1.6398472e-01]\n",
            " [1.2511399e-01]\n",
            " [9.9666774e-01]\n",
            " [8.8768971e-01]\n",
            " [3.7366304e-01]\n",
            " [9.8458236e-01]\n",
            " [9.9986511e-01]]\n"
          ]
        }
      ]
    },
    {
      "cell_type": "markdown",
      "source": [
        "**test it on single image of cat:**"
      ],
      "metadata": {
        "id": "824kamy_T3cd"
      }
    },
    {
      "cell_type": "code",
      "source": [
        "image_test = '/content/cat_image.jpg'"
      ],
      "metadata": {
        "id": "Tci2IKzWUAIa"
      },
      "execution_count": null,
      "outputs": []
    },
    {
      "cell_type": "code",
      "source": [
        "import numpy as np\n",
        "img = tf.keras.preprocessing.image.load_img(image_test, target_size = (224, 224))\n",
        "img = tf.keras.preprocessing.image.img_to_array(img)\n",
        "img = np.expand_dims(img, axis=0)\n",
        "prediction = model.predict(img)\n",
        "print(prediction)\n",
        "if prediction >= 0.5:\n",
        "  print(\"this is a cat\")\n",
        "else:\n",
        "  print(\"this is not a cat\")\n"
      ],
      "metadata": {
        "colab": {
          "base_uri": "https://localhost:8080/"
        },
        "id": "UfmkGRgQ4vU8",
        "outputId": "f77f07ce-ee18-43c9-e4eb-e47614debb22"
      },
      "execution_count": null,
      "outputs": [
        {
          "output_type": "stream",
          "name": "stdout",
          "text": [
            "1/1 [==============================] - 0s 140ms/step\n",
            "[[0.5071056]]\n",
            "this is a cat\n"
          ]
        }
      ]
    },
    {
      "cell_type": "markdown",
      "source": [
        "**Now predict the class throught labels:**"
      ],
      "metadata": {
        "id": "GnO9OOWWgUXu"
      }
    },
    {
      "cell_type": "code",
      "source": [
        "label = train_dataset.class_names[1]\n",
        "print(label)\n",
        "lebel = train_dataset.class_names[0]\n",
        "print(lebel)"
      ],
      "metadata": {
        "colab": {
          "base_uri": "https://localhost:8080/"
        },
        "id": "Og01-20ff55k",
        "outputId": "5afbf1a0-4f44-4a0c-aa2b-914717be576d"
      },
      "execution_count": null,
      "outputs": [
        {
          "output_type": "stream",
          "name": "stdout",
          "text": [
            "rabbit\n",
            "cat\n"
          ]
        }
      ]
    },
    {
      "cell_type": "code",
      "source": [
        "# Path to the test image\n",
        "test_image_path = '/content/cat_image.jpg'\n",
        "\n",
        "# Preprocess the test image\n",
        "preprocessed_image = preprocess_image(test_image_path)\n",
        "\n",
        "# Remove the extra dimension\n",
        "preprocessed_image = np.squeeze(preprocessed_image)\n",
        "\n",
        "# Make predictions\n",
        "predictions = model.predict(np.expand_dims(preprocessed_image, axis=0))\n",
        "\n",
        "# Convert predictions to binary form\n",
        "binary_prediction = 1 if predictions[0][0] > 0.5 else 0\n",
        "\n",
        "print(\"Prediction Probability:\", predictions[0])\n",
        "print(\"Binary Prediction:\", binary_prediction)"
      ],
      "metadata": {
        "colab": {
          "base_uri": "https://localhost:8080/"
        },
        "id": "ZshubIwUABMR",
        "outputId": "db1b63c8-8312-43f3-ead1-1441fd18bbe8"
      },
      "execution_count": null,
      "outputs": [
        {
          "output_type": "stream",
          "name": "stdout",
          "text": [
            "1/1 [==============================] - 0s 50ms/step\n",
            "Prediction Probability: [0.4793516]\n",
            "Binary Prediction: 0\n"
          ]
        }
      ]
    },
    {
      "cell_type": "code",
      "source": [
        "model.save('/content/drive/MyDrive/Save model IT wing/cat_vs_rabbit.h5')\n"
      ],
      "metadata": {
        "id": "sDaZ4NdhGiHd"
      },
      "execution_count": null,
      "outputs": []
    },
    {
      "cell_type": "code",
      "source": [
        "model.save('cat_vs_rabbit.h5')"
      ],
      "metadata": {
        "colab": {
          "base_uri": "https://localhost:8080/"
        },
        "id": "nHPF8lIaAsDK",
        "outputId": "5c73e5e5-302e-4c36-f521-4806e60449dd"
      },
      "execution_count": null,
      "outputs": [
        {
          "output_type": "stream",
          "name": "stderr",
          "text": [
            "/usr/local/lib/python3.10/dist-packages/keras/src/engine/training.py:3103: UserWarning: You are saving your model as an HDF5 file via `model.save()`. This file format is considered legacy. We recommend using instead the native Keras format, e.g. `model.save('my_model.keras')`.\n",
            "  saving_api.save_model(\n"
          ]
        }
      ]
    },
    {
      "cell_type": "code",
      "source": [
        "model.save('/content/drive/MyDrive/Save model IT wing/my_model.keras')\n"
      ],
      "metadata": {
        "id": "sMsdow3EF3zK"
      },
      "execution_count": null,
      "outputs": []
    },
    {
      "cell_type": "code",
      "source": [],
      "metadata": {
        "id": "OpkkvIRfIhND"
      },
      "execution_count": null,
      "outputs": []
    }
  ]
}